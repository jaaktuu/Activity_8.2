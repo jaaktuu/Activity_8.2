{
 "cells": [
  {
   "cell_type": "raw",
   "metadata": {},
   "source": [
    "---\n",
    "self-contained: True\n",
    "execute: \n",
    "  enabled: true\n",
    "title: Activity 8.2\n",
    "author: Tuukka Jaakkola\n",
    "date: '11/17/2023'\n",
    "output: html\n",
    "theme: darkly\n",
    "---"
   ]
  },
  {
   "cell_type": "code",
   "execution_count": 100,
   "metadata": {},
   "outputs": [],
   "source": [
    "import pandas as pd\n",
    "import numpy as np\n",
    "\n",
    "from palmerpenguins import load_penguins\n",
    "\n",
    "from sklearn.pipeline import Pipeline\n",
    "from sklearn.compose import make_column_selector, ColumnTransformer\n",
    "from sklearn.preprocessing import StandardScaler, OneHotEncoder, PolynomialFeatures\n",
    "from sklearn.linear_model import LinearRegression, Ridge, Lasso, ElasticNet \n",
    "from sklearn.model_selection import train_test_split, cross_val_score,GridSearchCV\n",
    "from sklearn.metrics import confusion_matrix, roc_curve\n",
    "from sklearn.neighbors import KNeighborsClassifier\n",
    "from sklearn.tree import DecisionTreeClassifier\n",
    "from sklearn.linear_model import LogisticRegression\n",
    "\n",
    "from plotnine import ggplot, aes, geom_line"
   ]
  },
  {
   "cell_type": "markdown",
   "metadata": {
    "id": "TxbDFsJARAMD"
   },
   "source": [
    "# Palmer Penguins Modeling\n",
    "\n",
    "Import the Palmer Penguins dataset and print out the first few rows.\n",
    "\n",
    "Suppose we want to predict `species` using the other variables in the dataset.\n",
    "\n",
    "**Dummify** all variables that require this."
   ]
  },
  {
   "cell_type": "code",
   "execution_count": 15,
   "metadata": {
    "id": "QV2uolyOQ65C"
   },
   "outputs": [],
   "source": [
    "penguin = load_penguins()\n",
    "\n",
    "penguin = penguin.dropna()\n",
    "\n",
    "penguin['year'] = penguin['year'].astype(object)\n",
    "\n",
    "X = penguin.drop(['species'], axis = 1)\n",
    "y = penguin['species']\n",
    "\n",
    "X_train, X_test, y_train, y_test = train_test_split(X,y, random_state = 42, stratify = y)"
   ]
  },
  {
   "cell_type": "code",
   "execution_count": 16,
   "metadata": {},
   "outputs": [],
   "source": [
    "ct = ColumnTransformer(\n",
    "  [\n",
    "    (\"dummify\", \n",
    "    OneHotEncoder(sparse_output = False, handle_unknown='ignore'),\n",
    "    make_column_selector(dtype_include=object)),\n",
    "    (\"standardize\", \n",
    "    StandardScaler(), \n",
    "    make_column_selector(dtype_include=np.number))\n",
    "  ],\n",
    "  remainder = \"passthrough\"\n",
    ").set_output(transform = \"pandas\")"
   ]
  },
  {
   "cell_type": "code",
   "execution_count": 17,
   "metadata": {},
   "outputs": [],
   "source": [
    "knn = KNeighborsClassifier()\n",
    "\n",
    "KNN_pipeline = Pipeline(\n",
    "    [(\"preprocessing\", ct),\n",
    "     (\"KNN\", knn)]\n",
    ")"
   ]
  },
  {
   "cell_type": "code",
   "execution_count": 18,
   "metadata": {},
   "outputs": [],
   "source": [
    "dt = DecisionTreeClassifier()\n",
    "\n",
    "DT_pipeline = Pipeline(\n",
    "    [(\"preprocessing\", ct),\n",
    "     (\"DT\", dt)]\n",
    ")"
   ]
  },
  {
   "cell_type": "markdown",
   "metadata": {
    "id": "HecNBVAnRHod"
   },
   "source": [
    "Let's use the other variables to predict `species`. Prepare your data and fit the following models on the entire dataset:\n",
    "\n",
    "* Two kNN models (for different values of K)\n",
    "* Two decision tree models (for different complexities of trees)\n",
    "\n",
    "Compute the following, for each of your models, on test data. Keep in mind that you may need to stratify your creation of the training and test data.\n",
    "\n",
    "* Confusion matrix\n",
    "* Overall Accuracy\n",
    "* Precision, Recall, AUC, and F1-score for each species\n",
    "\n",
    "Create one ROC plot for the species of your choice."
   ]
  },
  {
   "cell_type": "code",
   "execution_count": 70,
   "metadata": {
    "id": "U1onRGJQR8T_"
   },
   "outputs": [
    {
     "name": "stdout",
     "output_type": "stream",
     "text": [
      "0.9761904761904762\n",
      "[[36  1  0]\n",
      " [ 1 16  0]\n",
      " [ 0  0 30]]\n",
      "0.9849667123766503\n",
      "0.9839183673469387\n",
      "0.98388239122307\n",
      "0.9861178019511353\n"
     ]
    }
   ],
   "source": [
    "knn = KNeighborsClassifier(n_neighbors=1)\n",
    "\n",
    "KNN_pipeline = Pipeline(\n",
    "    [(\"preprocessing\", ct),\n",
    "     (\"KNN\", knn)]\n",
    ")\n",
    "\n",
    "fitted = KNN_pipeline.fit(X_train ,y_train)\n",
    "\n",
    "predict = fitted.predict(X_test)\n",
    "\n",
    "print(fitted.score(X_test, y_test))\n",
    "\n",
    "print(confusion_matrix(y_test, predict))\n",
    "\n",
    "precision = cross_val_score(KNN_pipeline, X_train, y_train, cv=5, scoring='precision_weighted')\n",
    "print(precision.mean())\n",
    "\n",
    "recall = cross_val_score(KNN_pipeline, X_train, y_train, cv=5, scoring='recall_weighted')\n",
    "print(recall.mean())\n",
    "\n",
    "f1 = cross_val_score(KNN_pipeline, X_train, y_train, cv=5, scoring='f1_weighted')\n",
    "print(f1.mean())\n",
    "\n",
    "auc = cross_val_score(KNN_pipeline, X_train, y_train, cv=5, scoring='roc_auc_ovr')\n",
    "print(auc.mean())\n"
   ]
  },
  {
   "cell_type": "code",
   "execution_count": 41,
   "metadata": {},
   "outputs": [
    {
     "name": "stdout",
     "output_type": "stream",
     "text": [
      "1.0\n",
      "[[37  0  0]\n",
      " [ 0 17  0]\n",
      " [ 0  0 30]]\n"
     ]
    }
   ],
   "source": [
    "knn = KNeighborsClassifier(n_neighbors=7)\n",
    "\n",
    "\n",
    "KNN_pipeline = Pipeline(\n",
    "    [(\"preprocessing\", ct),\n",
    "     (\"KNN\", knn)]\n",
    ")\n",
    "\n",
    "fitted = KNN_pipeline.fit(X_train ,y_train)\n",
    "\n",
    "predict = fitted.predict(X_test)\n",
    "\n",
    "print(fitted.score(X_test, y_test))\n",
    "\n",
    "print(confusion_matrix(y_test, predict))\n",
    "\n",
    "precision = cross_val_score(KNN_pipeline, X_train, y_train, cv=5, scoring='precision_weighted')\n",
    "print(precision.mean())\n",
    "\n",
    "recall = cross_val_score(KNN_pipeline, X_train, y_train, cv=5, scoring='recall_weighted')\n",
    "print(recall.mean())\n",
    "\n",
    "f1 = cross_val_score(KNN_pipeline, X_train, y_train, cv=5, scoring='f1_weighted')\n",
    "print(f1.mean())\n",
    "\n",
    "auc = cross_val_score(KNN_pipeline, X_train, y_train, cv=5, scoring='roc_auc_ovr')\n",
    "print(auc.mean())"
   ]
  },
  {
   "cell_type": "code",
   "execution_count": 53,
   "metadata": {},
   "outputs": [
    {
     "name": "stdout",
     "output_type": "stream",
     "text": [
      "0.9523809523809523\n",
      "[[36  1  0]\n",
      " [ 1 16  0]\n",
      " [ 0  2 28]]\n"
     ]
    }
   ],
   "source": [
    "dt = DecisionTreeClassifier(max_depth = 2)\n",
    "\n",
    "DT_pipeline = Pipeline(\n",
    "    [(\"preprocessing\", ct),\n",
    "     (\"DT\", dt)]\n",
    ")\n",
    "\n",
    "fitted = DT_pipeline.fit(X_train ,y_train)\n",
    "\n",
    "predict = fitted.predict(X_test)\n",
    "\n",
    "print(fitted.score(X_test, y_test))\n",
    "\n",
    "print(confusion_matrix(y_test, predict))\n",
    "\n",
    "precision = cross_val_score(KNN_pipeline, X_train, y_train, cv=5, scoring='precision_weighted')\n",
    "print(precision.mean())\n",
    "\n",
    "recall = cross_val_score(KNN_pipeline, X_train, y_train, cv=5, scoring='recall_weighted')\n",
    "print(recall.mean())\n",
    "\n",
    "f1 = cross_val_score(KNN_pipeline, X_train, y_train, cv=5, scoring='f1_weighted')\n",
    "print(f1.mean())\n",
    "\n",
    "auc = cross_val_score(KNN_pipeline, X_train, y_train, cv=5, scoring='roc_auc_ovr')\n",
    "print(auc.mean())"
   ]
  },
  {
   "cell_type": "code",
   "execution_count": 81,
   "metadata": {},
   "outputs": [
    {
     "name": "stdout",
     "output_type": "stream",
     "text": [
      "0.9642857142857143\n",
      "[[46  1]\n",
      " [ 2 35]]\n",
      "0.9841845607808342\n",
      "0.9838367346938774\n",
      "0.983852896310039\n",
      "0.9845238095238095\n"
     ]
    }
   ],
   "source": [
    "dt = DecisionTreeClassifier(max_depth = 10)\n",
    "\n",
    "DT_pipeline = Pipeline(\n",
    "    [(\"preprocessing\", ct),\n",
    "     (\"DT\", dt)]\n",
    ")\n",
    "\n",
    "fitted = DT_pipeline.fit(X_train ,y_train)\n",
    "\n",
    "predict = fitted.predict(X_test)\n",
    "\n",
    "print(fitted.score(X_test, y_test))\n",
    "\n",
    "print(confusion_matrix(y_test, predict))\n",
    "\n",
    "precision = cross_val_score(KNN_pipeline, X_train, y_train, cv=5, scoring='precision_weighted')\n",
    "print(precision.mean())\n",
    "\n",
    "recall = cross_val_score(KNN_pipeline, X_train, y_train, cv=5, scoring='recall_weighted')\n",
    "print(recall.mean())\n",
    "\n",
    "f1 = cross_val_score(KNN_pipeline, X_train, y_train, cv=5, scoring='f1_weighted')\n",
    "print(f1.mean())\n",
    "\n",
    "auc = cross_val_score(KNN_pipeline, X_train, y_train, cv=5, scoring='roc_auc_ovr')\n",
    "print(auc.mean())"
   ]
  },
  {
   "cell_type": "code",
   "execution_count": 114,
   "metadata": {},
   "outputs": [
    {
     "data": {
      "text/html": [
       "<div>\n",
       "<style scoped>\n",
       "    .dataframe tbody tr th:only-of-type {\n",
       "        vertical-align: middle;\n",
       "    }\n",
       "\n",
       "    .dataframe tbody tr th {\n",
       "        vertical-align: top;\n",
       "    }\n",
       "\n",
       "    .dataframe thead th {\n",
       "        text-align: right;\n",
       "    }\n",
       "</style>\n",
       "<table border=\"1\" class=\"dataframe\">\n",
       "  <thead>\n",
       "    <tr style=\"text-align: right;\">\n",
       "      <th></th>\n",
       "      <th>true</th>\n",
       "      <th>false</th>\n",
       "    </tr>\n",
       "  </thead>\n",
       "  <tbody>\n",
       "    <tr>\n",
       "      <th>0</th>\n",
       "      <td>0.000000</td>\n",
       "      <td>0.000000</td>\n",
       "    </tr>\n",
       "    <tr>\n",
       "      <th>1</th>\n",
       "      <td>0.945946</td>\n",
       "      <td>0.042553</td>\n",
       "    </tr>\n",
       "    <tr>\n",
       "      <th>2</th>\n",
       "      <td>1.000000</td>\n",
       "      <td>1.000000</td>\n",
       "    </tr>\n",
       "  </tbody>\n",
       "</table>\n",
       "</div>"
      ],
      "text/plain": [
       "       true     false\n",
       "0  0.000000  0.000000\n",
       "1  0.945946  0.042553\n",
       "2  1.000000  1.000000"
      ]
     },
     "execution_count": 114,
     "metadata": {},
     "output_type": "execute_result"
    }
   ],
   "source": [
    "X = penguin.drop(['species'], axis = 1)\n",
    "y = penguin['species'].apply(lambda x: 1 if x == \"Adelie\" else 0)\n",
    "\n",
    "X_train, X_test, y_train, y_test = train_test_split(X,y, random_state = 42, stratify = y)\n",
    "\n",
    "dt = DecisionTreeClassifier(max_depth = 10)\n",
    "\n",
    "DT_pipeline = Pipeline(\n",
    "    [(\"preprocessing\", ct),\n",
    "     (\"DT\", dt)]\n",
    ")\n",
    "\n",
    "fitted = DT_pipeline.fit(X_train ,y_train)\n",
    "\n",
    "predict = fitted.predict_proba(X_test)[:,1]\n",
    "\n",
    "fpr, tpr, thresholds = roc_curve(y_test, predict, pos_label=1)\n",
    "\n",
    "df = pd.DataFrame({\"true\":tpr, \"false\":fpr})\n",
    "\n",
    "df"
   ]
  },
  {
   "cell_type": "code",
   "execution_count": 115,
   "metadata": {},
   "outputs": [
    {
     "data": {
      "image/png": "[encoded data removed]",
      "text/plain": [
       "<Figure size 640x480 with 1 Axes>"
      ]
     },
     "metadata": {
      "image/png": {
       "height": 480,
       "width": 640
      }
     },
     "output_type": "display_data"
    },
    {
     "data": {
      "text/plain": [
       "<Figure Size: (640 x 480)>"
      ]
     },
     "execution_count": 115,
     "metadata": {},
     "output_type": "execute_result"
    }
   ],
   "source": [
    "(ggplot(df)\n",
    "    + geom_line(aes(x = 'false', y='true')))"
   ]
  }
 ],
 "metadata": {
  "colab": {
   "provenance": []
  },
  "kernelspec": {
   "display_name": "Python 3 (ipykernel)",
   "language": "python",
   "name": "python3"
  },
  "language_info": {
   "codemirror_mode": {
    "name": "ipython",
    "version": 3
   },
   "file_extension": ".py",
   "mimetype": "text/x-python",
   "name": "python",
   "nbconvert_exporter": "python",
   "pygments_lexer": "ipython3",
   "version": "3.11.4"
  }
 },
 "nbformat": 4,
 "nbformat_minor": 1
}
